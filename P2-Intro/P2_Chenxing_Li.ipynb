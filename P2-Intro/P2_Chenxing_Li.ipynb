{
 "cells": [
  {
   "cell_type": "markdown",
   "metadata": {},
   "source": [
    "\n",
    "# Data Set and Questions\n",
    "\n",
    "I chose to investigate the **Titanic Data** with the following questions:\n",
    "\n",
    "> 1. What factors are correlated to whether the passengers survived or not?\n",
    "> 2. How strong or weak are these possible correlations?"
   ]
  },
  {
   "cell_type": "markdown",
   "metadata": {},
   "source": [
    "# Data Wrangling - Fixing the Age NaNs problem\n",
    "\n",
    "First, let's import the necessary libraries and make jupyter display plots inline:"
   ]
  },
  {
   "cell_type": "code",
   "execution_count": 1,
   "metadata": {
    "collapsed": false
   },
   "outputs": [
    {
     "name": "stdout",
     "output_type": "stream",
     "text": [
      "Populating the interactive namespace from numpy and matplotlib\n"
     ]
    }
   ],
   "source": [
    "import pandas as pd\n",
    "import seaborn as sns\n",
    "%pylab inline"
   ]
  },
  {
   "cell_type": "markdown",
   "metadata": {},
   "source": [
    "Then use pandas to read the csv file into a dataframe:"
   ]
  },
  {
   "cell_type": "code",
   "execution_count": 2,
   "metadata": {
    "collapsed": false
   },
   "outputs": [],
   "source": [
    "df = pd.read_csv('titanic-data.csv')"
   ]
  },
  {
   "cell_type": "markdown",
   "metadata": {},
   "source": [
    "Since we have no idea about the data set yet, **info()** and **describe()** are good starting points to get a rough first impression."
   ]
  },
  {
   "cell_type": "code",
   "execution_count": 3,
   "metadata": {
    "collapsed": false
   },
   "outputs": [
    {
     "name": "stdout",
     "output_type": "stream",
     "text": [
      "<class 'pandas.core.frame.DataFrame'>\n",
      "RangeIndex: 891 entries, 0 to 890\n",
      "Data columns (total 12 columns):\n",
      "PassengerId    891 non-null int64\n",
      "Survived       891 non-null int64\n",
      "Pclass         891 non-null int64\n",
      "Name           891 non-null object\n",
      "Sex            891 non-null object\n",
      "Age            714 non-null float64\n",
      "SibSp          891 non-null int64\n",
      "Parch          891 non-null int64\n",
      "Ticket         891 non-null object\n",
      "Fare           891 non-null float64\n",
      "Cabin          204 non-null object\n",
      "Embarked       889 non-null object\n",
      "dtypes: float64(2), int64(5), object(5)\n",
      "memory usage: 83.6+ KB\n",
      "None\n"
     ]
    },
    {
     "name": "stderr",
     "output_type": "stream",
     "text": [
      "D:\\Anaconda2\\lib\\site-packages\\numpy\\lib\\function_base.py:3834: RuntimeWarning: Invalid value encountered in percentile\n",
      "  RuntimeWarning)\n"
     ]
    },
    {
     "data": {
      "text/html": [
       "<div>\n",
       "<table border=\"1\" class=\"dataframe\">\n",
       "  <thead>\n",
       "    <tr style=\"text-align: right;\">\n",
       "      <th></th>\n",
       "      <th>PassengerId</th>\n",
       "      <th>Survived</th>\n",
       "      <th>Pclass</th>\n",
       "      <th>Age</th>\n",
       "      <th>SibSp</th>\n",
       "      <th>Parch</th>\n",
       "      <th>Fare</th>\n",
       "    </tr>\n",
       "  </thead>\n",
       "  <tbody>\n",
       "    <tr>\n",
       "      <th>count</th>\n",
       "      <td>891.000000</td>\n",
       "      <td>891.000000</td>\n",
       "      <td>891.000000</td>\n",
       "      <td>714.000000</td>\n",
       "      <td>891.000000</td>\n",
       "      <td>891.000000</td>\n",
       "      <td>891.000000</td>\n",
       "    </tr>\n",
       "    <tr>\n",
       "      <th>mean</th>\n",
       "      <td>446.000000</td>\n",
       "      <td>0.383838</td>\n",
       "      <td>2.308642</td>\n",
       "      <td>29.699118</td>\n",
       "      <td>0.523008</td>\n",
       "      <td>0.381594</td>\n",
       "      <td>32.204208</td>\n",
       "    </tr>\n",
       "    <tr>\n",
       "      <th>std</th>\n",
       "      <td>257.353842</td>\n",
       "      <td>0.486592</td>\n",
       "      <td>0.836071</td>\n",
       "      <td>14.526497</td>\n",
       "      <td>1.102743</td>\n",
       "      <td>0.806057</td>\n",
       "      <td>49.693429</td>\n",
       "    </tr>\n",
       "    <tr>\n",
       "      <th>min</th>\n",
       "      <td>1.000000</td>\n",
       "      <td>0.000000</td>\n",
       "      <td>1.000000</td>\n",
       "      <td>0.420000</td>\n",
       "      <td>0.000000</td>\n",
       "      <td>0.000000</td>\n",
       "      <td>0.000000</td>\n",
       "    </tr>\n",
       "    <tr>\n",
       "      <th>25%</th>\n",
       "      <td>223.500000</td>\n",
       "      <td>0.000000</td>\n",
       "      <td>2.000000</td>\n",
       "      <td>NaN</td>\n",
       "      <td>0.000000</td>\n",
       "      <td>0.000000</td>\n",
       "      <td>7.910400</td>\n",
       "    </tr>\n",
       "    <tr>\n",
       "      <th>50%</th>\n",
       "      <td>446.000000</td>\n",
       "      <td>0.000000</td>\n",
       "      <td>3.000000</td>\n",
       "      <td>NaN</td>\n",
       "      <td>0.000000</td>\n",
       "      <td>0.000000</td>\n",
       "      <td>14.454200</td>\n",
       "    </tr>\n",
       "    <tr>\n",
       "      <th>75%</th>\n",
       "      <td>668.500000</td>\n",
       "      <td>1.000000</td>\n",
       "      <td>3.000000</td>\n",
       "      <td>NaN</td>\n",
       "      <td>1.000000</td>\n",
       "      <td>0.000000</td>\n",
       "      <td>31.000000</td>\n",
       "    </tr>\n",
       "    <tr>\n",
       "      <th>max</th>\n",
       "      <td>891.000000</td>\n",
       "      <td>1.000000</td>\n",
       "      <td>3.000000</td>\n",
       "      <td>80.000000</td>\n",
       "      <td>8.000000</td>\n",
       "      <td>6.000000</td>\n",
       "      <td>512.329200</td>\n",
       "    </tr>\n",
       "  </tbody>\n",
       "</table>\n",
       "</div>"
      ],
      "text/plain": [
       "       PassengerId    Survived      Pclass         Age       SibSp  \\\n",
       "count   891.000000  891.000000  891.000000  714.000000  891.000000   \n",
       "mean    446.000000    0.383838    2.308642   29.699118    0.523008   \n",
       "std     257.353842    0.486592    0.836071   14.526497    1.102743   \n",
       "min       1.000000    0.000000    1.000000    0.420000    0.000000   \n",
       "25%     223.500000    0.000000    2.000000         NaN    0.000000   \n",
       "50%     446.000000    0.000000    3.000000         NaN    0.000000   \n",
       "75%     668.500000    1.000000    3.000000         NaN    1.000000   \n",
       "max     891.000000    1.000000    3.000000   80.000000    8.000000   \n",
       "\n",
       "            Parch        Fare  \n",
       "count  891.000000  891.000000  \n",
       "mean     0.381594   32.204208  \n",
       "std      0.806057   49.693429  \n",
       "min      0.000000    0.000000  \n",
       "25%      0.000000    7.910400  \n",
       "50%      0.000000   14.454200  \n",
       "75%      0.000000   31.000000  \n",
       "max      6.000000  512.329200  "
      ]
     },
     "execution_count": 3,
     "metadata": {},
     "output_type": "execute_result"
    }
   ],
   "source": [
    "print(df.info())\n",
    "df.describe()"
   ]
  },
  {
   "cell_type": "markdown",
   "metadata": {},
   "source": [
    "Looks like we have 891 rows of passenger data, and some values are missing  in the **Age, Cabin, Embarked** columns.\n",
    "\n",
    "The most gaping issue is that the missing values in the Age column are causing the 25%, 50%, and 75% quintile levels not showing properly and a warning from numpy, so let's fix this one first.\n",
    "\n",
    "Two solutions are possible: \n",
    "\n",
    "> 1. Drop the rows where the Age values are missing.\n",
    "> 2. Fill in the missing Age cells with a neutral value (median or mean) of the Age column.\n",
    "\n",
    "Note that a new dataframe will be created in the \"dropping\" solution so that the original dataframe is preserved; also note that additional columns will be created for the \"filling\" solutions so that the original column is preserved. Although the new dataframe or the new columns might or might not be used later in the report, they will be available if the necessity to use them do arise in the future."
   ]
  },
  {
   "cell_type": "code",
   "execution_count": 4,
   "metadata": {
    "collapsed": false
   },
   "outputs": [],
   "source": [
    "# Solution 1: drop 'em\n",
    "df_drop_age_na = df.copy(deep=True)\n",
    "df_drop_age_na = df_drop_age_na[df_drop_age_na['Age'].notnull()]\n",
    "\n",
    "# Solution 2a: fill median\n",
    "df['AgeFillMedian'] = df['Age'].fillna(df['Age'].median())\n",
    "\n",
    "# Solution 2b: fill mean\n",
    "df['AgeFillMean'] = df['Age'].fillna(df['Age'].mean())"
   ]
  },
  {
   "cell_type": "markdown",
   "metadata": {},
   "source": [
    "Check whether the solutions above have worked:"
   ]
  },
  {
   "cell_type": "code",
   "execution_count": 5,
   "metadata": {
    "collapsed": false
   },
   "outputs": [
    {
     "name": "stdout",
     "output_type": "stream",
     "text": [
      "All columns in the new dataframe should have no more than 714 rows:\n",
      "\n",
      "<class 'pandas.core.frame.DataFrame'>\n",
      "Int64Index: 714 entries, 0 to 890\n",
      "Data columns (total 12 columns):\n",
      "PassengerId    714 non-null int64\n",
      "Survived       714 non-null int64\n",
      "Pclass         714 non-null int64\n",
      "Name           714 non-null object\n",
      "Sex            714 non-null object\n",
      "Age            714 non-null float64\n",
      "SibSp          714 non-null int64\n",
      "Parch          714 non-null int64\n",
      "Ticket         714 non-null object\n",
      "Fare           714 non-null float64\n",
      "Cabin          185 non-null object\n",
      "Embarked       712 non-null object\n",
      "dtypes: float64(2), int64(5), object(5)\n",
      "memory usage: 72.5+ KB\n",
      "None \n",
      "\n",
      "The AgeFillMedian and AgeFillMean columns should be filled in properly:\n",
      "\n",
      "Age median: 28.0\n",
      "Age mean:   29.6991176471 \n",
      "\n",
      "    Age  AgeFillMedian  AgeFillMean\n",
      "5   NaN           28.0    29.699118\n",
      "17  NaN           28.0    29.699118\n",
      "19  NaN           28.0    29.699118\n",
      "26  NaN           28.0    29.699118\n",
      "28  NaN           28.0    29.699118\n"
     ]
    }
   ],
   "source": [
    "print('All columns in the new dataframe should have no more than 714 rows:\\n')\n",
    "print df_drop_age_na.info(), '\\n'\n",
    "\n",
    "print('The AgeFillMedian and AgeFillMean columns should be filled in properly:\\n')\n",
    "\n",
    "print 'Age median:', df['Age'].median()\n",
    "print 'Age mean:  ', df['Age'].mean(), '\\n'\n",
    "print(df[['Age', 'AgeFillMedian', 'AgeFillMean']][df['Age'].isnull()].head())"
   ]
  },
  {
   "cell_type": "markdown",
   "metadata": {},
   "source": [
    "Yes, they worked! Cabin and Embarked columns can be fixed in similar ways, but I'm not going to do further boring wrangling, instead let's do some fun exploration and visualization! "
   ]
  },
  {
   "cell_type": "markdown",
   "metadata": {},
   "source": [
    "# Data Exploration - Survival\n",
    "\n",
    "I'd like to first explore a little bit on the Survived column, as it sits in the center of our questions. \n",
    "\n",
    "How many of the passengers have survived and died respectively? This is a question that **value_counts()** can easily answer. "
   ]
  },
  {
   "cell_type": "code",
   "execution_count": 6,
   "metadata": {
    "collapsed": false
   },
   "outputs": [
    {
     "data": {
      "text/plain": [
       "0    549\n",
       "1    342\n",
       "Name: Survived, dtype: int64"
      ]
     },
     "execution_count": 6,
     "metadata": {},
     "output_type": "execute_result"
    }
   ],
   "source": [
    "df['Survived'].value_counts()"
   ]
  },
  {
   "cell_type": "markdown",
   "metadata": {},
   "source": [
    "549 died and 342 survived. What is the proportion of these two groups with radically different fates? Passing in the parameter of **normalize=True** into value_counts() will return the relative frequencies:"
   ]
  },
  {
   "cell_type": "code",
   "execution_count": 7,
   "metadata": {
    "collapsed": false
   },
   "outputs": [
    {
     "data": {
      "text/plain": [
       "0    0.616162\n",
       "1    0.383838\n",
       "Name: Survived, dtype: float64"
      ]
     },
     "execution_count": 7,
     "metadata": {},
     "output_type": "execute_result"
    }
   ],
   "source": [
    "df['Survived'].value_counts(normalize=True)"
   ]
  },
  {
   "cell_type": "markdown",
   "metadata": {},
   "source": [
    "Nearly 62% of the passengers did not make it, or put it in another way a little more than 38% were lucky. Let's call **plot.pie()** on the dataframe to make a pie chart which can illustrate the comparison between two proportions clearly.\n",
    "\n",
    "Although the overuses and abuses of pie charts are generally frowned upon by experts, a simple pie chart won't really hurt in this case. Actually with just the dichotomy of survival possibility (instead of multiple categories crammed together), it's quite effective in showing the binary comparison."
   ]
  },
  {
   "cell_type": "code",
   "execution_count": 8,
   "metadata": {
    "collapsed": false
   },
   "outputs": [
    {
     "data": {
      "text/plain": [
       "<matplotlib.text.Text at 0xc07aba8>"
      ]
     },
     "execution_count": 8,
     "metadata": {},
     "output_type": "execute_result"
    },
    {
     "data": {
      "image/png": "[encoded data removed]",
      "text/plain": [
       "<matplotlib.figure.Figure at 0xbfd1208>"
      ]
     },
     "metadata": {},
     "output_type": "display_data"
    }
   ],
   "source": [
    "survival = df['Survived'].value_counts()\n",
    "\n",
    "pie_survival = survival.plot.pie(figsize = (3.6, 3.6), explode = (0, 0.08),\n",
    "                                 colors  = ('#999FA3', 'white'),\n",
    "                                 labels  = ('Unsurvived', 'Survived'),\n",
    "                                 autopct = '%1.1f%%', legend = False, \n",
    "                                 startangle = 90, labeldistance = 0.15)\n",
    "\n",
    "pie_survival.set_ylabel('') # get rid of the ylabel on the left side\n",
    "pie_survival.set_title('891 Titanic Passengers', y=0.95) # move the title closer to the main chart"
   ]
  },
  {
   "cell_type": "markdown",
   "metadata": {},
   "source": [
    "Now that we have a general idea about the survival breakdown, let's explore some other factors along with it. \n",
    "\n",
    "Because we already know from the movie that women, children, and elderly people were given priority when it came to the who got on the lifeboats, **Age** and **Sex** columns will be examined.\n",
    "\n",
    "Furthermore, due to the fact that passengers from different cabin classes lived in different decks of the Titanic, which probably made them either easier or more difficult to get to lifeboats in time, the **Pclass** column will also be examined."
   ]
  },
  {
   "cell_type": "markdown",
   "metadata": {},
   "source": [
    "## Suvivial by Age\n",
    "\n",
    "We'll only look at the data available: the Age column in the original dataframe or the \"drpped-na\" new dataframe, not the AgeFillMedian and AgeFillMean columns, because they represent distortion with a more centered distribution. Besides, becasue we are not investigating multiple independent variables together, in which case ignoring the missing-value rows would miss out on valuable information from other columns, jsut ignoring the missing values is the cautious way to go.\n",
    "\n",
    "Let's call **plot.hist()** on the dataframe to make a histogram, which will show the shape of the distribution."
   ]
  },
  {
   "cell_type": "code",
   "execution_count": 9,
   "metadata": {
    "collapsed": false
   },
   "outputs": [
    {
     "data": {
      "text/plain": [
       "<matplotlib.axes._subplots.AxesSubplot at 0xc1aa080>"
      ]
     },
     "execution_count": 9,
     "metadata": {},
     "output_type": "execute_result"
    },
    {
     "data": {
      "image/png": "[encoded data removed]",
      "text/plain": [
       "<matplotlib.figure.Figure at 0xc062ef0>"
      ]
     },
     "metadata": {},
     "output_type": "display_data"
    }
   ],
   "source": [
    "# save the plot setting in a dictionary \n",
    "# so that it can be easiliy modified and reused\n",
    "hist_setting = {'color' : '#032263',\n",
    "                'title' : '714 Titanic Passengers by Age',\n",
    "                'alpha' : .5, \n",
    "                'bins'  : 25}\n",
    "\n",
    "df_drop_age_na['Age'].plot.hist(**hist_setting)"
   ]
  },
  {
   "cell_type": "markdown",
   "metadata": {},
   "source": [
    "We can see that the age frequencies cluster around the range of 20-30 years old, with gradual lower frequencies toward senior years and a sudden drop in the teenage range.\n",
    "\n",
    "Next let's explore the Survived and Age columns together and see the distributions of ages for those survived and whose not:"
   ]
  },
  {
   "cell_type": "code",
   "execution_count": 10,
   "metadata": {
    "collapsed": false
   },
   "outputs": [
    {
     "data": {
      "text/plain": [
       "<matplotlib.axes._subplots.AxesSubplot at 0xc57fb00>"
      ]
     },
     "execution_count": 10,
     "metadata": {},
     "output_type": "execute_result"
    },
    {
     "data": {
      "image/png": "[encoded data removed]",
      "text/plain": [
       "<matplotlib.figure.Figure at 0xc56b588>"
      ]
     },
     "metadata": {},
     "output_type": "display_data"
    }
   ],
   "source": [
    "df_age = pd.DataFrame({'Survived'  : df_drop_age_na['Age'][df['Survived'] == 1],\n",
    "                       'Unsurvived': df_drop_age_na['Age'][df['Survived'] == 0]})\n",
    "\n",
    "hist_setting['color'] = ('#032263', '#7389AE')\n",
    "\n",
    "df_age.plot.hist(**hist_setting)"
   ]
  },
  {
   "cell_type": "markdown",
   "metadata": {},
   "source": [
    "It seems that small children had a higher survival rate, but once the age is above high single digits that more people died than survived in all the buckets. \n",
    "\n",
    "(Just to clarify, the above histogram has Survived and Unsurvived frequencies overlayed over each other, not stacked on each other.)"
   ]
  },
  {
   "cell_type": "markdown",
   "metadata": {},
   "source": [
    "### More Data Wrangling\n",
    "\n",
    "Let's create a new column to store the category of small children and non small children. I will just use age 6 as the rough dividing criterion, and calculate how the survival rates depend on our newly-created category."
   ]
  },
  {
   "cell_type": "code",
   "execution_count": 11,
   "metadata": {
    "collapsed": false
   },
   "outputs": [
    {
     "name": "stdout",
     "output_type": "stream",
     "text": [
      "1    0.702128\n",
      "0    0.297872\n",
      "Name: Survived, dtype: float64 \n",
      "\n",
      "0    0.614693\n",
      "1    0.385307\n",
      "Name: Survived, dtype: float64\n"
     ]
    }
   ],
   "source": [
    "df_drop_age_na.loc[df_drop_age_na['Age'] <= 6, 'IsSmallChildren'] = 1\n",
    "df_drop_age_na.loc[df_drop_age_na['Age'] > 6, 'IsSmallChildren']  = 0\n",
    "\n",
    "print df_drop_age_na[df_drop_age_na['IsSmallChildren'] == 1]['Survived'].value_counts(normalize=True), '\\n'\n",
    "print df_drop_age_na[df_drop_age_na['IsSmallChildren'] == 0]['Survived'].value_counts(normalize=True)"
   ]
  },
  {
   "cell_type": "markdown",
   "metadata": {},
   "source": [
    "The survival rates for male and female are 38.5% and 70.2% respectively.\n",
    "\n",
    "And then let's use **sns.factorplot()** to visualize those two figures:"
   ]
  },
  {
   "cell_type": "code",
   "execution_count": 12,
   "metadata": {
    "collapsed": false
   },
   "outputs": [
    {
     "data": {
      "text/plain": [
       "<matplotlib.lines.Line2D at 0xc3764a8>"
      ]
     },
     "execution_count": 12,
     "metadata": {},
     "output_type": "execute_result"
    },
    {
     "data": {
      "image/png": "[encoded data removed]",
      "text/plain": [
       "<matplotlib.figure.Figure at 0xc1da320>"
      ]
     },
     "metadata": {},
     "output_type": "display_data"
    }
   ],
   "source": [
    "g = sns.factorplot(x='IsSmallChildren', y='Survived', data=df_drop_age_na,\n",
    "                   palette=('#999FA3', '#FEFEFE'),\n",
    "                   kind='bar', ci=None, size=3.8)\n",
    "\n",
    "(g.set_axis_labels('', 'Survival Rate')\n",
    "  .set_xticklabels(['Age > 6', 'Age <= 6'])\n",
    "  .set(ylim=(0, 1)))\n",
    "\n",
    "sns.plt.title('Survival Rate by Age')\n",
    "\n",
    "# Add the average survival rate as a horizontal dashed line\n",
    "sns.plt.axhline(y=0.384, linestyle ='--', color='#50514F')\n",
    "\n"
   ]
  },
  {
   "cell_type": "markdown",
   "metadata": {},
   "source": [
    "For those older than six, the survival rates seems to be in line with the average; for those younger, the rate seems to be quite higher. But to quantify the possible correlation, we will need to use relevant statistical tools to analyze it later."
   ]
  },
  {
   "cell_type": "markdown",
   "metadata": {},
   "source": [
    "## Suvivial by Gender\n",
    "\n",
    "First let's see the breakdown of passengers by gender:"
   ]
  },
  {
   "cell_type": "code",
   "execution_count": 13,
   "metadata": {
    "collapsed": false
   },
   "outputs": [
    {
     "name": "stdout",
     "output_type": "stream",
     "text": [
      "male      0.647587\n",
      "female    0.352413\n",
      "Name: Sex, dtype: float64\n"
     ]
    },
    {
     "data": {
      "text/plain": [
       "<matplotlib.text.Text at 0xcc63278>"
      ]
     },
     "execution_count": 13,
     "metadata": {},
     "output_type": "execute_result"
    },
    {
     "data": {
      "image/png": "[encoded data removed]",
      "text/plain": [
       "<matplotlib.figure.Figure at 0xc8992e8>"
      ]
     },
     "metadata": {},
     "output_type": "display_data"
    }
   ],
   "source": [
    "print df['Sex'].value_counts(normalize=True)\n",
    "\n",
    "g = sns.factorplot(x='Sex', data=df,\n",
    "                   kind='count', size=3.7,\n",
    "                   palette=('#70CDFF', '#FF6B70'))\n",
    "\n",
    "(g.set_axis_labels('', 'Frequency')\n",
    "  .set_xticklabels(['Male', 'Female']))\n",
    "\n",
    "sns.plt.title('891 Passengers by Gender')"
   ]
  },
  {
   "cell_type": "markdown",
   "metadata": {},
   "source": [
    "The proportion of males on board seems to be nearly double that of female (64.8% vs. 35.2%).\n",
    "\n",
    "Next, the intuitively obvious way to investige the relationship between the Sex and Survived columns seems to be plotting out the proportions of survived vs. unsurvived by gender. So let's just do it:"
   ]
  },
  {
   "cell_type": "code",
   "execution_count": 14,
   "metadata": {
    "collapsed": false
   },
   "outputs": [
    {
     "name": "stdout",
     "output_type": "stream",
     "text": [
      "0    0.811092\n",
      "1    0.188908\n",
      "Name: Survived, dtype: float64 \n",
      "\n",
      "1    0.742038\n",
      "0    0.257962\n",
      "Name: Survived, dtype: float64\n"
     ]
    },
    {
     "data": {
      "text/plain": [
       "<matplotlib.lines.Line2D at 0xc1c1a90>"
      ]
     },
     "execution_count": 14,
     "metadata": {},
     "output_type": "execute_result"
    },
    {
     "data": {
      "image/png": "[encoded data removed]",
      "text/plain": [
       "<matplotlib.figure.Figure at 0xc808438>"
      ]
     },
     "metadata": {},
     "output_type": "display_data"
    }
   ],
   "source": [
    "print df[df['Sex'] == 'male']['Survived'].value_counts(normalize=True), '\\n'\n",
    "print df[df['Sex'] == 'female']['Survived'].value_counts(normalize=True)\n",
    "\n",
    "g = sns.factorplot(x='Sex', y='Survived', data=df,\n",
    "                   palette=('#70CDFF', '#FF6B70'),\n",
    "                   kind='bar', ci=None, size=3.8)\n",
    "\n",
    "(g.set_axis_labels('', 'Survival Rate')\n",
    "  .set_xticklabels(['Male', 'Female'])\n",
    "  .set(ylim=(0, 1)))\n",
    "\n",
    "sns.plt.title('Survival Rate by Gender')\n",
    "sns.plt.axhline(y=0.384, linestyle ='--', color='#50514F')"
   ]
  },
  {
   "cell_type": "markdown",
   "metadata": {},
   "source": [
    "As the chart shows, the difference of survival rates between male and female is rather striking (18.9% vs. 74.2%)."
   ]
  },
  {
   "cell_type": "markdown",
   "metadata": {},
   "source": [
    "## Suvivial by Passenger Class\n",
    "\n",
    "Let's then do similar visualizations for the Pclass column:"
   ]
  },
  {
   "cell_type": "code",
   "execution_count": 15,
   "metadata": {
    "collapsed": false
   },
   "outputs": [
    {
     "name": "stdout",
     "output_type": "stream",
     "text": [
      "3    0.551066\n",
      "1    0.242424\n",
      "2    0.206510\n",
      "Name: Pclass, dtype: float64\n"
     ]
    },
    {
     "data": {
      "text/plain": [
       "<matplotlib.text.Text at 0xd69eef0>"
      ]
     },
     "execution_count": 15,
     "metadata": {},
     "output_type": "execute_result"
    },
    {
     "data": {
      "image/png": "[encoded data removed]",
      "text/plain": [
       "<matplotlib.figure.Figure at 0xcc4c898>"
      ]
     },
     "metadata": {},
     "output_type": "display_data"
    }
   ],
   "source": [
    "print df['Pclass'].value_counts(normalize=True)\n",
    "\n",
    "g = sns.factorplot(x='Pclass', data=df, kind='count',\n",
    "                   palette='PuBu', size=4, aspect=1.05)\n",
    "\n",
    "(g.set_axis_labels('', 'Frequency')\n",
    "  .set_xticklabels(['1st Class', '2nd Class', '3rd Class']))\n",
    "\n",
    "sns.plt.title('891 Passengers by Class')"
   ]
  },
  {
   "cell_type": "code",
   "execution_count": 16,
   "metadata": {
    "collapsed": false
   },
   "outputs": [
    {
     "data": {
      "text/plain": [
       "<matplotlib.lines.Line2D at 0xd4476a0>"
      ]
     },
     "execution_count": 16,
     "metadata": {},
     "output_type": "execute_result"
    },
    {
     "data": {
      "image/png": "[encoded data removed]",
      "text/plain": [
       "<matplotlib.figure.Figure at 0xcd74b38>"
      ]
     },
     "metadata": {},
     "output_type": "display_data"
    }
   ],
   "source": [
    "g = sns.factorplot(x='Pclass', y='Survived', data=df,\n",
    "                   palette='PuBu', kind='bar', ci=None, \n",
    "                   size=4.2, aspect=1.05)\n",
    "\n",
    "(g.set_axis_labels('', 'Survival Rate')\n",
    "  .set_xticklabels(['1st Class', '2nd Class', '3rd Class'])\n",
    "  .set(ylim=(0, 1)))\n",
    "\n",
    "sns.plt.title('Survival Rate by Class')\n",
    "sns.plt.axhline(y=0.384, linestyle ='--', color='#50514F')"
   ]
  },
  {
   "cell_type": "markdown",
   "metadata": {},
   "source": [
    "The evidence seems to support that the higher the cabin class, the higher the survival rate, with the 1st and 2nd classes' figures higher than average and the 3rd lower. Howevever, is this really the case?"
   ]
  },
  {
   "cell_type": "markdown",
   "metadata": {},
   "source": [
    "## Interaction between Passenger Class and Gender\n",
    "\n",
    "Since we already know that gender difference play a huge role on the survival rate, if the gender proprotions in each cabin class are not equal to that on average, it would be difficult to attribute any possible correlation to the class variable, as it might well have come from the sex variable. \n",
    "\n",
    "So let's breakdown the number of passengers in each class by gender:"
   ]
  },
  {
   "cell_type": "code",
   "execution_count": 17,
   "metadata": {
    "collapsed": false
   },
   "outputs": [
    {
     "data": {
      "text/plain": [
       "<matplotlib.text.Text at 0xdba7ac8>"
      ]
     },
     "execution_count": 17,
     "metadata": {},
     "output_type": "execute_result"
    },
    {
     "data": {
      "image/png": "[encoded data removed]",
      "text/plain": [
       "<matplotlib.figure.Figure at 0xda9d908>"
      ]
     },
     "metadata": {},
     "output_type": "display_data"
    }
   ],
   "source": [
    "g = sns.factorplot(x='Pclass', hue='Sex', data=df,\n",
    "                   kind='count', size=3.8, aspect=1.1,\n",
    "                   palette=('#70CDFF', '#FF6B70'))\n",
    "\n",
    "(g.set_axis_labels('', 'Frequency')\n",
    "  .set_xticklabels(['1st Class', '2nd Class', '3rd Class']))\n",
    "\n",
    "sns.plt.title('891 Passengers by Class and Gender')"
   ]
  },
  {
   "cell_type": "markdown",
   "metadata": {},
   "source": [
    "As it turns out, 1st and 2nd classes do have a higher porportion of females (which have a higher survival rate) than the roughly 2:1 male-female ratio on average.\n",
    "\n",
    "Furthermore, cabin class could also have an effect on the survival rate of the female in return. Let's do some more breakdown to see if it is true:"
   ]
  },
  {
   "cell_type": "code",
   "execution_count": 18,
   "metadata": {
    "collapsed": false
   },
   "outputs": [
    {
     "data": {
      "text/plain": [
       "<matplotlib.lines.Line2D at 0xdb146a0>"
      ]
     },
     "execution_count": 18,
     "metadata": {},
     "output_type": "execute_result"
    },
    {
     "data": {
      "image/png": "[encoded data removed]",
      "text/plain": [
       "<matplotlib.figure.Figure at 0xd816ba8>"
      ]
     },
     "metadata": {},
     "output_type": "display_data"
    }
   ],
   "source": [
    "g = sns.factorplot(x='Pclass', y='Survived', hue='Sex', data=df,\n",
    "                   kind='bar', ci=None, size=4, aspect=1.1,\n",
    "                   palette=('#70CDFF', '#FF6B70'))\n",
    "\n",
    "(g.set_axis_labels('', 'Survival Rate')\n",
    "  .set_xticklabels(['1st Class', '2nd Class', '3rd Class']))\n",
    "\n",
    "sns.plt.title('Survival Rate by Class and Gender')\n",
    "sns.plt.axhline(y=0.742, linestyle ='--', color='#743031')\n",
    "sns.plt.axhline(y=0.189, linestyle ='--', color='#113849')"
   ]
  },
  {
   "cell_type": "markdown",
   "metadata": {},
   "source": [
    "The moment of truth: the female in the 1st and 2nd classes not only take a larger proportion than average, but also have a higher rate of survival than that of the female themselves on average. Besides, the male in the 1st class also have a higher survival rate than that of the male themselves on average.\n",
    "\n",
    "So it seems that class and gender factors are interwined in a somewhat complicated way. However, due to the limited range of statistical tools I have mastered so far, this complication will not be examined in this report."
   ]
  },
  {
   "cell_type": "markdown",
   "metadata": {},
   "source": [
    "# Data Analysis - Correlation\n",
    "\n",
    "## Pearson's r and Phi Coefficient\n",
    "\n",
    "We want to quantify the possible correlation between survival and three other variables: age, gender and cabin class, and the most common statistical tool for this job is Pearson's r (or Phi coefficient in the special case of two binary variables).\n",
    "\n",
    "I'm too lazy to compute the relevant statistics myself, and the ready-made functions from sklearn and scipy can help me out."
   ]
  },
  {
   "cell_type": "markdown",
   "metadata": {},
   "source": [
    "### Survival by Age\n",
    "\n",
    "For the same reason in the exploration section, we'll calculate the age statistics with just the data we have, ignoring the missing values as filled-in values could cause distortion."
   ]
  },
  {
   "cell_type": "code",
   "execution_count": 19,
   "metadata": {
    "collapsed": false
   },
   "outputs": [
    {
     "name": "stdout",
     "output_type": "stream",
     "text": [
      "0.159971618111\n",
      "0.159971618111\n"
     ]
    }
   ],
   "source": [
    "from sklearn.metrics import matthews_corrcoef\n",
    "from scipy.stats import pearsonr\n",
    "\n",
    "# To see that these two statistics are the same for two binary variables,\n",
    "# I'd like to print both of them out, to see for myself whether the results are equal.\n",
    "\n",
    "cor_age = matthews_corrcoef(df_drop_age_na['Survived'], df_drop_age_na['IsSmallChildren']) \n",
    "\n",
    "print(cor_age)\n",
    "print(pearsonr(df_drop_age_na['Survived'], df_drop_age_na['IsSmallChildren'])[0])"
   ]
  },
  {
   "cell_type": "markdown",
   "metadata": {},
   "source": [
    "### Survival by Gender"
   ]
  },
  {
   "cell_type": "code",
   "execution_count": 20,
   "metadata": {
    "collapsed": false
   },
   "outputs": [
    {
     "name": "stdout",
     "output_type": "stream",
     "text": [
      "-0.543351380658\n"
     ]
    }
   ],
   "source": [
    "cor_gender = matthews_corrcoef(df['Survived'], df['Sex']) \n",
    "print(cor_gender)"
   ]
  },
  {
   "cell_type": "markdown",
   "metadata": {},
   "source": [
    "### Survival by Cabin class"
   ]
  },
  {
   "cell_type": "code",
   "execution_count": 21,
   "metadata": {
    "collapsed": false
   },
   "outputs": [
    {
     "name": "stdout",
     "output_type": "stream",
     "text": [
      "-0.338481035961\n"
     ]
    }
   ],
   "source": [
    "cor_class = pearsonr(df['Survived'], df['Pclass'])[0]\n",
    "print(cor_class)"
   ]
  },
  {
   "cell_type": "markdown",
   "metadata": {},
   "source": [
    "# Conclusion"
   ]
  },
  {
   "cell_type": "code",
   "execution_count": 22,
   "metadata": {
    "collapsed": false
   },
   "outputs": [
    {
     "data": {
      "text/html": [
       "<div>\n",
       "<table border=\"1\" class=\"dataframe\">\n",
       "  <thead>\n",
       "    <tr style=\"text-align: right;\">\n",
       "      <th></th>\n",
       "      <th>Correlation</th>\n",
       "    </tr>\n",
       "  </thead>\n",
       "  <tbody>\n",
       "    <tr>\n",
       "      <th>Survival by Gender</th>\n",
       "      <td>-0.543351</td>\n",
       "    </tr>\n",
       "    <tr>\n",
       "      <th>Survival by Cabin Class</th>\n",
       "      <td>-0.338481</td>\n",
       "    </tr>\n",
       "    <tr>\n",
       "      <th>Survival by Age</th>\n",
       "      <td>0.159972</td>\n",
       "    </tr>\n",
       "  </tbody>\n",
       "</table>\n",
       "</div>"
      ],
      "text/plain": [
       "                         Correlation\n",
       "Survival by Gender         -0.543351\n",
       "Survival by Cabin Class    -0.338481\n",
       "Survival by Age             0.159972"
      ]
     },
     "execution_count": 22,
     "metadata": {},
     "output_type": "execute_result"
    }
   ],
   "source": [
    "conclusion = pd.DataFrame({'Correlation': [cor_gender, cor_class, cor_age]}, \n",
    "                          index=['Survival by Gender', 'Survival by Cabin Class', 'Survival by Age'])\n",
    "conclusion"
   ]
  },
  {
   "cell_type": "markdown",
   "metadata": {},
   "source": [
    "To answer the questions at the outset: Of the three factors we investigated, it looks that gender has the highest correlation with survival (albeit one with medium stength: -0.543351), the correlation between survival and cabin class is somewhat weaker (-0.338481), and the one between survival and age is very weak (0.159972). (Note that the signs of those statistics are not particularly important in our case; it is the absolute values, i.e. the strength of the correlation, that matter.)\n",
    "\n",
    "The hypotheses were that any possible correlations might come from the facts that the female and children were put on lifeboats first, and that passenger from higher cabin classes got easy access to lifeboats due to their quarters' proximity to the main deck. The analysis largely supports that women were probably given priority although the correlation is only in the middle range, but the evidence is lacking that children had any significant edge on survival because the correlation is very weak. \n",
    "\n",
    "As to the cabin class hypothesis, it is really difficult to say for certain. Although the correlation is in the weak to middle range, theres is the confounding fact that 1st and 2nd classes have more females (with higher survival rate than the male) than on average, which might actually contributed to the correlation in this case. Furthermore, the female in the 1st and 2nd classes in turn have higher rates of survival than that of the female themselves on average, which suggests an interaction between the two variables and it's an complication that this report did not delve deeper into. However, this present opportunities for future investigations.\n",
    "\n",
    "Finally, a qualifying remark to end this report: the variables in this report were investigated only for their possible correlations with passenager survival, and it should emphasized and reiterated that no causation relationships should be derived or assumed in any way, because we simply do not have the ability to perform experiments on events in the past."
   ]
  },
  {
   "cell_type": "markdown",
   "metadata": {},
   "source": [
    "# Resources\n",
    "\n",
    "[Kaggle Python Tutorial on Machine Learning (Titanic)](https://www.datacamp.com/community/open-courses/kaggle-python-tutorial-on-machine-learning)\n",
    "\n",
    "[Getting Started With Kaggle (Titanic)](https://www.dataquest.io/mission/74/getting-started-with-kaggle)\n",
    "\n",
    "[Phi coefficient ](http://math.tutorvista.com/statistics/phi-coefficient.html)\n",
    "\n",
    "[Compute the Matthews correlation coefficient (MCC) using sklearn](http://scikit-learn.org/stable/modules/generated/sklearn.metrics.matthews_corrcoef.html)\n",
    "\n",
    "[Calculates a Pearson correlation coefficient](https://docs.scipy.org/doc/scipy-0.14.0/reference/generated/scipy.stats.pearsonr.html)\n",
    "\n",
    "[Pandas Visualization](http://pandas.pydata.org/pandas-docs/version/0.18.1/visualization.html)\n",
    "\n",
    "[How to remove the label on the left side?](http://stackoverflow.com/questions/34094596/python-matplotlib-pyplot-pie-charts-how-to-remove-the-label-on-the-left-side)\n",
    "\n",
    "[seaborn.factorplot](http://seaborn.pydata.org/generated/seaborn.factorplot.html#seaborn.factorplot)\n",
    "\n"
   ]
  }
 ],
 "metadata": {
  "anaconda-cloud": {},
  "kernelspec": {
   "display_name": "Python [default]",
   "language": "python",
   "name": "python2"
  },
  "language_info": {
   "codemirror_mode": {
    "name": "ipython",
    "version": 2
   },
   "file_extension": ".py",
   "mimetype": "text/x-python",
   "name": "python",
   "nbconvert_exporter": "python",
   "pygments_lexer": "ipython2",
   "version": "2.7.12"
  }
 },
 "nbformat": 4,
 "nbformat_minor": 1
}
